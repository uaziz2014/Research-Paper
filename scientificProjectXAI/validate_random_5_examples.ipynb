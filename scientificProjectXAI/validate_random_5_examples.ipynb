{
 "cells": [
  {
   "cell_type": "code",
   "id": "initial_id",
   "metadata": {
    "collapsed": true,
    "ExecuteTime": {
     "end_time": "2024-08-28T20:53:41.366955Z",
     "start_time": "2024-08-28T20:53:40.060260Z"
    }
   },
   "source": [
    "import json\n",
    "\n",
    "with open(\"./data/annotated_labels.json\", \"r\") as f:\n",
    "    annotated_labels = json.load(f)\n",
    "\n",
    "with open(\"./data/classified_labels.json\", \"r\") as f:\n",
    "    classified_labels = json.load(f)\n",
    "\n",
    "with open('./data/original_post_tokens.json', 'r', encoding='utf-8') as f:\n",
    "    original_post_tokens = json.load(f)\n",
    "\n",
    "with open('./data/original_sentences.json', 'r', encoding='utf-8') as f:\n",
    "    original_sentences = json.load(f)\n",
    "\n",
    "with open('./data/rationale_tokens_list.json', 'r') as f:\n",
    "    rationale_tokens_data_full = json.load(f)\n",
    "\n",
    "with open('./data/classified_results.json', 'r') as f:\n",
    "    classified_results = json.load(f)\n",
    "    \n",
    "with open('./data/important_words_abusive_SHAP.json', 'r') as f:\n",
    "    important_words_abusive_SHAP = json.load(f)\n",
    "    \n",
    "batch_response_file_set_one = []\n",
    "with open('./GPT/GPT_response/merged_batch_response_file_set_one.jsonl', 'r') as f:\n",
    "    for line in f:\n",
    "        batch_response_file_set_one.append(json.loads(line))\n",
    "\n",
    "batch_response_file_set_two = []\n",
    "with open('./GPT/GPT_response/merged_batch_response_file_set_two.jsonl', 'r') as f:\n",
    "    for line in f:\n",
    "        batch_response_file_set_two.append(json.loads(line))"
   ],
   "outputs": [],
   "execution_count": 7
  },
  {
   "metadata": {},
   "cell_type": "markdown",
   "source": "Random 5 examples",
   "id": "264fb60831cbf8f7"
  },
  {
   "metadata": {
    "ExecuteTime": {
     "end_time": "2024-08-28T21:07:20.339438Z",
     "start_time": "2024-08-28T21:07:20.322546Z"
    }
   },
   "cell_type": "code",
   "source": [
    "import random\n",
    "\n",
    "random_numbers = [random.randint(0, 20148) for _ in range(5)]\n",
    "\n",
    "print(random_numbers)\n",
    "\n",
    "# for i in selected_prompts_set_two:\n",
    "#     print(i)"
   ],
   "id": "d76b8d808fe04dbc",
   "outputs": [
    {
     "name": "stdout",
     "output_type": "stream",
     "text": [
      "[7507, 8590, 17580, 18674, 1176]\n"
     ]
    }
   ],
   "execution_count": 13
  },
  {
   "metadata": {},
   "cell_type": "markdown",
   "source": "Present 5 examples",
   "id": "377c4372ac2a1fc1"
  },
  {
   "metadata": {
    "ExecuteTime": {
     "end_time": "2024-08-28T21:07:22.811960Z",
     "start_time": "2024-08-28T21:07:22.791080Z"
    }
   },
   "cell_type": "code",
   "source": [
    "selected_original_texts = [original_sentences[i] for i in random_numbers]\n",
    "selected_SHAP_explanation = [important_words_abusive_SHAP[i] for i in random_numbers]\n",
    "selected_gpt_response_set_one = [batch_response_file_set_one[i] for i in random_numbers]\n",
    "selected_gpt_response_set_two = [batch_response_file_set_two[i] for i in random_numbers]\n",
    "selected_rationale_tokens = [rationale_tokens_data_full[i] for i in random_numbers]\n",
    "\n",
    "for original_text, shap_explanation, gpt_response_one, gpt_response_two, rationale_tokens in zip(\n",
    "    selected_original_texts, selected_SHAP_explanation, selected_gpt_response_set_one, \n",
    "    selected_gpt_response_set_two, selected_rationale_tokens):\n",
    "    \n",
    "    print(\"Original Text:\")\n",
    "    print(original_text, \"\\n\")\n",
    "    \n",
    "    print(\"SHAP Explanation:\")\n",
    "    print(shap_explanation, \"\\n\")\n",
    "    \n",
    "    from pydantic import BaseModel\n",
    "\n",
    "    class PromptSet1ResponseFormat(BaseModel):\n",
    "        classified_class: str\n",
    "        words_with_inappropriate_meanings: list[str]\n",
    "        explanation: str\n",
    "        \n",
    "    class PromptSet2ResponseFormat(BaseModel):\n",
    "        classified_class: str\n",
    "        # words_with_inappropriate_meanings: list[str]\n",
    "        explanation: str\n",
    "    \n",
    "    \n",
    "    print(\"GPT Response Set One:\")\n",
    "    print(PromptSet1ResponseFormat(**json.loads(gpt_response_one[\"response\"]['body']['choices'][0]['message']['content'])), \"\\n\")\n",
    "    \n",
    "    print(\"GPT Response Set Two:\")\n",
    "    print(PromptSet2ResponseFormat(**json.loads(gpt_response_two[\"response\"]['body']['choices'][0]['message']['content'])), \"\\n\")\n",
    "    \n",
    "    print(\"Rationale Tokens:\")\n",
    "    print(rationale_tokens, \"\\n\")\n",
    "    print(\"-\" * 40) \n"
   ],
   "id": "b688c57aeeeca116",
   "outputs": [
    {
     "name": "stdout",
     "output_type": "stream",
     "text": [
      "Original Text:\n",
      "no one cares kike \n",
      "\n",
      "SHAP Explanation:\n",
      "['kike'] \n",
      "\n",
      "GPT Response Set One:\n",
      "classified_class='hate speech' words_with_inappropriate_meanings=['kike'] explanation=\"The term 'kike' is a derogatory slur used against Jewish people, which is indicative of hate speech.\" \n",
      "\n",
      "GPT Response Set Two:\n",
      "classified_class='hate speech' explanation=\"The text is classified as hate speech primarily due to the use of the derogatory term 'kike', which is an offensive slur against Jewish people.\" \n",
      "\n",
      "Rationale Tokens:\n",
      "['kike'] \n",
      "\n",
      "----------------------------------------\n",
      "Original Text:\n",
      "a group of xhosa men is called the hoes stop getting mad because we use the right terms \n",
      "\n",
      "SHAP Explanation:\n",
      "[] \n",
      "\n",
      "GPT Response Set One:\n",
      "classified_class='normal' words_with_inappropriate_meanings=[] explanation='' \n",
      "\n",
      "GPT Response Set Two:\n",
      "classified_class='normal' explanation='' \n",
      "\n",
      "Rationale Tokens:\n",
      "[] \n",
      "\n",
      "----------------------------------------\n",
      "Original Text:\n",
      "david holtz a proud supporter of antifa took the battle off the streets and into social media when he tweeted except that whites actually don t deserve a homeland you have terrorized the planet for ever you should be enslaved and raped to death \n",
      "\n",
      "SHAP Explanation:\n",
      "[] \n",
      "\n",
      "GPT Response Set One:\n",
      "classified_class='normal' words_with_inappropriate_meanings=[] explanation='' \n",
      "\n",
      "GPT Response Set Two:\n",
      "classified_class='normal' explanation='' \n",
      "\n",
      "Rationale Tokens:\n",
      "[] \n",
      "\n",
      "----------------------------------------\n",
      "Original Text:\n",
      "tell that retarded fucking monkey to come on with it i will wait \n",
      "\n",
      "SHAP Explanation:\n",
      "['retarded'] \n",
      "\n",
      "GPT Response Set One:\n",
      "classified_class='offensive' words_with_inappropriate_meanings=['retarded', 'fucking', 'monkey'] explanation=\"The use of 'retarded' as a derogatory term and 'fucking' as an intensifier, along with referring to someone as a 'monkey', indicates a high level of offensiveness and derogatory intent towards a person.\" \n",
      "\n",
      "GPT Response Set Two:\n",
      "classified_class='offensive' explanation=\"The use of the word 'retarded' indicates a derogatory term aimed at insulting someone, categorizing this text as offensive.\" \n",
      "\n",
      "Rationale Tokens:\n",
      "['retarded', 'fucking', 'monkey'] \n",
      "\n",
      "----------------------------------------\n",
      "Original Text:\n",
      "boo 👻 👺 👻 sorry did i scare you 🙃 🙃 it cocktober 🍆 😈 🌚 u kno what that means slut -o- ween send this to <number> of ur sluttiest ghost 👻 bitches 🙎 if u get <number> back ur a slutty witch 🔮 bitch but if u get <number> back ur the spookiest slut on the block 🌚 😈 🔮 💯 \n",
      "\n",
      "SHAP Explanation:\n",
      "['a', 'you', 'back', 'slutty', '🙎', 'the', 'this', '💯', 'if', 'slut', 'witch', 'send', '<number>', '🔮', 'get', 'boo', 'bitches', 'ur'] \n",
      "\n",
      "GPT Response Set One:\n",
      "classified_class='offensive' words_with_inappropriate_meanings=['slut', 'bitch', 'sluttiest', 'slutty witch', 'spookiest slut'] explanation=\"The text contains derogatory and sexualized language directed toward individuals, particularly the use of terms like 'slut' and 'bitch', which are inherently offensive and demeaning.\" \n",
      "\n",
      "GPT Response Set Two:\n",
      "classified_class='offensive' explanation=\"The text contains language that is derogatory and objectifying, particularly with the repeated use of terms like 'slut' and 'bitches', which contributes to its classification as offensive speech.\" \n",
      "\n",
      "Rationale Tokens:\n",
      "[] \n",
      "\n",
      "----------------------------------------\n"
     ]
    }
   ],
   "execution_count": 14
  },
  {
   "metadata": {},
   "cell_type": "code",
   "source": "",
   "id": "9f0d60c679ce269b",
   "outputs": [],
   "execution_count": null
  }
 ],
 "metadata": {
  "kernelspec": {
   "display_name": "Python 3",
   "language": "python",
   "name": "python3"
  },
  "language_info": {
   "codemirror_mode": {
    "name": "ipython",
    "version": 2
   },
   "file_extension": ".py",
   "mimetype": "text/x-python",
   "name": "python",
   "nbconvert_exporter": "python",
   "pygments_lexer": "ipython2",
   "version": "2.7.6"
  }
 },
 "nbformat": 4,
 "nbformat_minor": 5
}
