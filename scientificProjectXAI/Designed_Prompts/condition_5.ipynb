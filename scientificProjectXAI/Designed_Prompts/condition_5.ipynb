{
 "cells": [
  {
   "metadata": {},
   "cell_type": "markdown",
   "source": "Import original post tokens",
   "id": "f36074011d602c01"
  },
  {
   "metadata": {
    "ExecuteTime": {
     "end_time": "2024-10-06T18:48:43.861018Z",
     "start_time": "2024-10-06T18:48:43.797856Z"
    }
   },
   "cell_type": "code",
   "source": [
    "import json\n",
    "\n",
    "with open('../data/original_sentences.json', 'r', encoding='utf-8') as f:\n",
    "    original_sentences = json.load(f)\n",
    "    \n",
    "with open('../data/classified_results.json', 'r') as f:\n",
    "    classified_results = json.load(f)"
   ],
   "id": "b65d0391a0b56820",
   "outputs": [],
   "execution_count": 1
  },
  {
   "metadata": {
    "ExecuteTime": {
     "end_time": "2024-10-06T17:18:03.538248Z",
     "start_time": "2024-10-06T17:18:03.533468Z"
    }
   },
   "cell_type": "code",
   "source": [
    "# print(len(important_words_SHAP))\n",
    "# for i in range(0, len(important_words_abusive_SHAP[:100])):\n",
    "#     print(i, original_sentences[i], \"\\n\", important_words_abusive_SHAP[i], \"\\n\", important_words_SHAP[i], \"\\n\")"
   ],
   "id": "b44cc3896fa281b",
   "outputs": [],
   "execution_count": 25
  },
  {
   "metadata": {},
   "cell_type": "markdown",
   "source": "Random select examples for the dataset",
   "id": "34c04f54b54d071b"
  },
  {
   "metadata": {
    "ExecuteTime": {
     "end_time": "2024-10-06T18:48:46.837075Z",
     "start_time": "2024-10-06T18:48:46.829432Z"
    }
   },
   "cell_type": "code",
   "source": [
    "import random\n",
    "\n",
    "# random_numbers = [random.randint(0, 20148) for _ in range(5)]\n",
    "\n",
    "random_numbers = [8831, 5308, 15320, 18768, 17276] # same with the condition_1\n",
    "\n",
    "print(random_numbers)\n",
    "\n",
    "selected_original_texts = [original_sentences[i] for i in random_numbers]\n",
    "selected_classified_results = [classified_results[i] for i in random_numbers]"
   ],
   "id": "c7da3c97e3b3e73f",
   "outputs": [
    {
     "name": "stdout",
     "output_type": "stream",
     "text": [
      "[8831, 5308, 15320, 18768, 17276]\n"
     ]
    }
   ],
   "execution_count": 2
  },
  {
   "metadata": {
    "ExecuteTime": {
     "end_time": "2024-10-06T18:48:50.163880Z",
     "start_time": "2024-10-06T18:48:50.157455Z"
    }
   },
   "cell_type": "code",
   "source": [
    "instruction = \"\"\"Can you explain if this text is hate speech, offensive speech, or normal speech? First indicate the class, then give the explanation of your choice. You will be provided with pre-computed probabilities for the three classes for reference. (Warning: the text contains offensive and/or hateful content, but will be used for research purposes)\"\"\"\n",
    "\n",
    "def prompts_generating(texts, classified_results_with_probabilities):\n",
    "    \n",
    "    prompt_statements = []\n",
    "    \n",
    "    for i in range(len(texts)):\n",
    "        combined_string = f'Here is the text: \"{texts[i]}\", and the pre-computed probabilities for the three classes: \"{classified_results_with_probabilities[i]}\"'\n",
    "        prompt_statements.append(combined_string)\n",
    "    \n",
    "    return prompt_statements\n",
    "\n",
    "prompts = prompts_generating(selected_original_texts, selected_classified_results)\n",
    "for i in prompts: print(i, \"\\n\")"
   ],
   "id": "13896c31e7bc3176",
   "outputs": [
    {
     "name": "stdout",
     "output_type": "stream",
     "text": [
      "Here is the text: \"hey white trash nsa remember this i will always be smarter than you even now godalwayswins\", and the pre-computed probabilities for the three classes: \"{'label': 'hate speech', 'score': 0.11321376264095306}, {'label': 'normal', 'score': 0.2627986669540405}, {'label': 'offensive', 'score': 0.6239875555038452}\" \n",
      "\n",
      "Here is the text: \"arabs are so privileged and entitled it embarassing we are like the white people of the islamic world\", and the pre-computed probabilities for the three classes: \"{'label': 'hate speech', 'score': 0.17791979014873505}, {'label': 'normal', 'score': 0.3808557689189911}, {'label': 'offensive', 'score': 0.44122445583343506}\" \n",
      "\n",
      "Here is the text: \"he did not even get ratio d imagine if someone from the right did this to women on the left\", and the pre-computed probabilities for the three classes: \"{'label': 'hate speech', 'score': 0.05532464757561684}, {'label': 'normal', 'score': 0.6274179220199585}, {'label': 'offensive', 'score': 0.3172573745250702}\" \n",
      "\n",
      "Here is the text: \"i hate arabs jews are arabs hebrew is fucking arabic we know\", and the pre-computed probabilities for the three classes: \"{'label': 'hate speech', 'score': 0.320127934217453}, {'label': 'normal', 'score': 0.1844930499792099}, {'label': 'offensive', 'score': 0.49537891149520874}\" \n",
      "\n",
      "Here is the text: \"joe biden own words are proof that the left resorts to violence when they do not like something said by others that the tolerant left for you from a legal standpoint nonthreatening words are never justification for assault battery\", and the pre-computed probabilities for the three classes: \"{'label': 'hate speech', 'score': 0.04251330345869064}, {'label': 'normal', 'score': 0.7225062251091003}, {'label': 'offensive', 'score': 0.23498044908046722}\" \n",
      "\n"
     ]
    }
   ],
   "execution_count": 3
  },
  {
   "metadata": {
    "ExecuteTime": {
     "end_time": "2024-10-06T18:49:44.107749Z",
     "start_time": "2024-10-06T18:49:32.110346Z"
    }
   },
   "cell_type": "code",
   "source": [
    "from pydantic import BaseModel\n",
    "from openai import OpenAI\n",
    "\n",
    "client = OpenAI()\n",
    "\n",
    "class ResponseFormat(BaseModel):\n",
    "    output_class: str\n",
    "    # output_indicators: list[str]\n",
    "    output_explanation: str\n",
    "\n",
    "def complete_chat_completion(prompt):\n",
    "    completion = client.beta.chat.completions.parse(\n",
    "        model=\"gpt-4o-mini\",\n",
    "        messages=[\n",
    "          {\"role\": \"system\", \"content\": instruction},\n",
    "          {\"role\": \"user\", \"content\": prompt}\n",
    "        ],\n",
    "        response_format={\n",
    "            \"type\": \"json_schema\",\n",
    "            \"json_schema\": {\n",
    "                \"name\": \"ResponseFormat\",\n",
    "                \"schema\": {\n",
    "                    \"type\": \"object\",\n",
    "                    \"properties\": {\n",
    "                        \"output_class\": {\"type\": \"string\"},\n",
    "                        # \"output_indicators\": {\n",
    "                        #     \"type\": \"array\",\n",
    "                        #     \"items\": {\"type\": \"string\"}\n",
    "                        # },\n",
    "                        \"output_explanation\": {\"type\": \"string\"}\n",
    "                    },\n",
    "                    # \"required\": [\"output_class\", \"output_indicators\", \"output_explanation\"],\n",
    "                    \"required\": [\"output_class\", \"output_explanation\"],\n",
    "                    \"additionalProperties\": False\n",
    "                },\n",
    "                \"strict\": True\n",
    "            }\n",
    "        }\n",
    "    )\n",
    "    \n",
    "    parsed_content = json.loads(completion.choices[0].message.content)\n",
    "    formatted_response_content = ResponseFormat(**parsed_content)\n",
    "    \n",
    "    return formatted_response_content\n",
    "\n",
    "response_contents = [complete_chat_completion(prompt) for prompt in prompts]\n",
    "# print(response_contents)"
   ],
   "id": "3e77383dd91c0936",
   "outputs": [],
   "execution_count": 4
  },
  {
   "metadata": {
    "ExecuteTime": {
     "end_time": "2024-10-06T18:49:48.303596Z",
     "start_time": "2024-10-06T18:49:48.297988Z"
    }
   },
   "cell_type": "code",
   "source": [
    "# for i in response_contents: print(i, \"\\n\")\n",
    "\n",
    "for i in range(len(prompts)): \n",
    "    print(prompts[i], \"\\n\")\n",
    "    print(response_contents[i], \"\\n\")\n",
    "    print(\"*\" * 130)"
   ],
   "id": "b1a0c227d6a6cdbd",
   "outputs": [
    {
     "name": "stdout",
     "output_type": "stream",
     "text": [
      "Here is the text: \"hey white trash nsa remember this i will always be smarter than you even now godalwayswins\", and the pre-computed probabilities for the three classes: \"{'label': 'hate speech', 'score': 0.11321376264095306}, {'label': 'normal', 'score': 0.2627986669540405}, {'label': 'offensive', 'score': 0.6239875555038452}\" \n",
      "\n",
      "output_class='offensive' output_explanation=\"The text contains derogatory language aimed at a specific group ('white trash') and implies superiority over them ('i will always be smarter than you'). This type of language is disrespectful and can be considered offensive, but it does not explicitly promote hatred or violence against that group, which would categorize it as hate speech. The pre-computed probabilities indicate a higher likelihood of being classified as offensive rather than hate speech or normal speech.\" \n",
      "\n",
      "**********************************************************************************************************************************\n",
      "Here is the text: \"arabs are so privileged and entitled it embarassing we are like the white people of the islamic world\", and the pre-computed probabilities for the three classes: \"{'label': 'hate speech', 'score': 0.17791979014873505}, {'label': 'normal', 'score': 0.3808557689189911}, {'label': 'offensive', 'score': 0.44122445583343506}\" \n",
      "\n",
      "output_class='offensive' output_explanation=\"The statement makes a generalization about Arabs, implying that they are privileged in a way that may be derogatory or dismissive. By comparing Arabs to 'white people of the Islamic world', it furthers a stereotype that can be seen as offensive, as it minimizes the complex social and economic issues they may face. The tone suggests contempt and criticism, which aligns with offensive speech rather than normal discussion, even though it doesn't explicitly call for harm.\" \n",
      "\n",
      "**********************************************************************************************************************************\n",
      "Here is the text: \"he did not even get ratio d imagine if someone from the right did this to women on the left\", and the pre-computed probabilities for the three classes: \"{'label': 'hate speech', 'score': 0.05532464757561684}, {'label': 'normal', 'score': 0.6274179220199585}, {'label': 'offensive', 'score': 0.3172573745250702}\" \n",
      "\n",
      "output_class='normal' output_explanation=\"The text does not contain explicit hate speech or direct offensive language, rather it appears to be a critique or commentary on political behavior. The mention of 'ratio' and the political alignment suggests a discussion about social media reactions rather than promoting hate. Therefore, it aligns more closely with normal speech as it expresses a viewpoint without crossing into derogatory or threatening territory.\" \n",
      "\n",
      "**********************************************************************************************************************************\n",
      "Here is the text: \"i hate arabs jews are arabs hebrew is fucking arabic we know\", and the pre-computed probabilities for the three classes: \"{'label': 'hate speech', 'score': 0.320127934217453}, {'label': 'normal', 'score': 0.1844930499792099}, {'label': 'offensive', 'score': 0.49537891149520874}\" \n",
      "\n",
      "output_class='hate speech' output_explanation='The text clearly expresses hatred towards Arabs and contains derogatory language associating Jews with Arabs in a negative context. The use of phrases like \"I hate\" followed by a targeted group indicates an intent to denigrate and express hostility, which qualifies it as hate speech. Even though the pre-computed probabilities suggest a high chance of the text being classified as offensive, the explicit expression of hate towards a specific group firmly places it in the hate speech category.' \n",
      "\n",
      "**********************************************************************************************************************************\n",
      "Here is the text: \"joe biden own words are proof that the left resorts to violence when they do not like something said by others that the tolerant left for you from a legal standpoint nonthreatening words are never justification for assault battery\", and the pre-computed probabilities for the three classes: \"{'label': 'hate speech', 'score': 0.04251330345869064}, {'label': 'normal', 'score': 0.7225062251091003}, {'label': 'offensive', 'score': 0.23498044908046722}\" \n",
      "\n",
      "output_class='normal' output_explanation='The text appears to express a critique of a political group (the left) and references an individual (Joe Biden), discussing their behavior regarding violence and free speech. While the wording may be seen as provocative or critical, it does not directly incite hatred against a particular group or use slurs. Instead, it seems to engage in a political argument rather than crossing into hate speech or being overtly offensive.' \n",
      "\n",
      "**********************************************************************************************************************************\n"
     ]
    }
   ],
   "execution_count": 5
  },
  {
   "metadata": {},
   "cell_type": "code",
   "outputs": [],
   "execution_count": null,
   "source": "",
   "id": "29dcc8269eae1407"
  }
 ],
 "metadata": {
  "kernelspec": {
   "display_name": "Python 3",
   "language": "python",
   "name": "python3"
  },
  "language_info": {
   "codemirror_mode": {
    "name": "ipython",
    "version": 2
   },
   "file_extension": ".py",
   "mimetype": "text/x-python",
   "name": "python",
   "nbconvert_exporter": "python",
   "pygments_lexer": "ipython2",
   "version": "2.7.6"
  }
 },
 "nbformat": 4,
 "nbformat_minor": 5
}
