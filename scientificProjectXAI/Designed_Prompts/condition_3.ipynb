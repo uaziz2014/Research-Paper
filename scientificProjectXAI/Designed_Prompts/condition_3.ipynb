{
 "cells": [
  {
   "metadata": {},
   "cell_type": "markdown",
   "source": "Import original post tokens",
   "id": "f36074011d602c01"
  },
  {
   "metadata": {
    "ExecuteTime": {
     "end_time": "2024-10-06T17:18:03.533468Z",
     "start_time": "2024-10-06T17:18:03.478555Z"
    }
   },
   "cell_type": "code",
   "source": [
    "import json\n",
    "\n",
    "with open('../data/original_sentences.json', 'r', encoding='utf-8') as f:\n",
    "    original_sentences = json.load(f)\n",
    "    \n",
    "# with open('../data/important_words_abusive_SHAP.json', 'r') as f:\n",
    "#     important_words_abusive_SHAP = json.load(f)\n",
    "    \n",
    "with open('../data/important_words_SHAP.json', 'r') as f:\n",
    "    important_words_SHAP = json.load(f)"
   ],
   "id": "b65d0391a0b56820",
   "outputs": [],
   "execution_count": 24
  },
  {
   "metadata": {
    "ExecuteTime": {
     "end_time": "2024-10-06T17:18:03.538248Z",
     "start_time": "2024-10-06T17:18:03.533468Z"
    }
   },
   "cell_type": "code",
   "source": [
    "# print(len(important_words_SHAP))\n",
    "# for i in range(0, len(important_words_abusive_SHAP[:100])):\n",
    "#     print(i, original_sentences[i], \"\\n\", important_words_abusive_SHAP[i], \"\\n\", important_words_SHAP[i], \"\\n\")"
   ],
   "id": "b44cc3896fa281b",
   "outputs": [],
   "execution_count": 25
  },
  {
   "metadata": {},
   "cell_type": "markdown",
   "source": "Random select examples for the dataset",
   "id": "34c04f54b54d071b"
  },
  {
   "metadata": {
    "ExecuteTime": {
     "end_time": "2024-10-06T17:18:03.545692Z",
     "start_time": "2024-10-06T17:18:03.540327Z"
    }
   },
   "cell_type": "code",
   "source": [
    "import random\n",
    "\n",
    "# random_numbers = [random.randint(0, 20148) for _ in range(5)]\n",
    "\n",
    "random_numbers = [8831, 5308, 15320, 18768, 17276] # same with the condition_1\n",
    "\n",
    "print(random_numbers)\n",
    "\n",
    "selected_original_texts = [original_sentences[i] for i in random_numbers]\n",
    "selected_important_words = [important_words_SHAP[i] for i in random_numbers]"
   ],
   "id": "c7da3c97e3b3e73f",
   "outputs": [
    {
     "name": "stdout",
     "output_type": "stream",
     "text": [
      "[8831, 5308, 15320, 18768, 17276]\n"
     ]
    }
   ],
   "execution_count": 26
  },
  {
   "metadata": {
    "ExecuteTime": {
     "end_time": "2024-10-06T17:18:03.565689Z",
     "start_time": "2024-10-06T17:18:03.557567Z"
    }
   },
   "cell_type": "code",
   "source": [
    "instruction = \"\"\"Can you explain if this text is hate speech, offensive speech, or normal speech? First indicate the class, then give the explanation of your choice. When explaining, pay special attention to the words provided. (Warning: the text contains offensive and/or hateful content, but will be used for research purposes)\"\"\"\n",
    "\n",
    "def prompts_generating(texts, important_words):\n",
    "    \n",
    "    prompt_statements = []\n",
    "    \n",
    "    for i in range(len(texts)):\n",
    "        combined_string = f'Here is the text: \"{texts[i]}\", and the words you need to pay attention to: {important_words[i]}'\n",
    "        prompt_statements.append(combined_string)\n",
    "    \n",
    "    return prompt_statements\n",
    "\n",
    "prompts = prompts_generating(selected_original_texts, selected_important_words)\n",
    "for i in prompts: print(i, \"\\n\")"
   ],
   "id": "13896c31e7bc3176",
   "outputs": [
    {
     "name": "stdout",
     "output_type": "stream",
     "text": [
      "Here is the text: \"hey white trash nsa remember this i will always be smarter than you even now godalwayswins\", and the words you need to pay attention to: ['smarter', 'than', 'nsa', 'hey', 'trash'] \n",
      "\n",
      "Here is the text: \"arabs are so privileged and entitled it embarassing we are like the white people of the islamic world\", and the words you need to pay attention to: ['so', 'islamic', 'privileged', 'arabs', 'like'] \n",
      "\n",
      "Here is the text: \"he did not even get ratio d imagine if someone from the right did this to women on the left\", and the words you need to pay attention to: ['from', 'did', 'the', 'left'] \n",
      "\n",
      "Here is the text: \"i hate arabs jews are arabs hebrew is fucking arabic we know\", and the words you need to pay attention to: ['hate', 'arabs', 'fucking', 'arabic'] \n",
      "\n",
      "Here is the text: \"joe biden own words are proof that the left resorts to violence when they do not like something said by others that the tolerant left for you from a legal standpoint nonthreatening words are never justification for assault battery\", and the words you need to pay attention to: ['assault', 'words', 'justification', 'battery'] \n",
      "\n"
     ]
    }
   ],
   "execution_count": 27
  },
  {
   "metadata": {
    "ExecuteTime": {
     "end_time": "2024-10-06T17:18:19.289954Z",
     "start_time": "2024-10-06T17:18:03.565689Z"
    }
   },
   "cell_type": "code",
   "source": [
    "from pydantic import BaseModel\n",
    "from openai import OpenAI\n",
    "\n",
    "client = OpenAI()\n",
    "\n",
    "class ResponseFormat(BaseModel):\n",
    "    output_class: str\n",
    "    # output_indicators: list[str]\n",
    "    output_explanation: str\n",
    "\n",
    "def complete_chat_completion(prompt):\n",
    "    completion = client.beta.chat.completions.parse(\n",
    "        model=\"gpt-4o-mini\",\n",
    "        messages=[\n",
    "          {\"role\": \"system\", \"content\": instruction},\n",
    "          {\"role\": \"user\", \"content\": prompt}\n",
    "        ],\n",
    "        response_format={\n",
    "            \"type\": \"json_schema\",\n",
    "            \"json_schema\": {\n",
    "                \"name\": \"ResponseFormat\",\n",
    "                \"schema\": {\n",
    "                    \"type\": \"object\",\n",
    "                    \"properties\": {\n",
    "                        \"output_class\": {\"type\": \"string\"},\n",
    "                        # \"output_indicators\": {\n",
    "                        #     \"type\": \"array\",\n",
    "                        #     \"items\": {\"type\": \"string\"}\n",
    "                        # },\n",
    "                        \"output_explanation\": {\"type\": \"string\"}\n",
    "                    },\n",
    "                    # \"required\": [\"output_class\", \"output_indicators\", \"output_explanation\"],\n",
    "                    \"required\": [\"output_class\", \"output_explanation\"],\n",
    "                    \"additionalProperties\": False\n",
    "                },\n",
    "                \"strict\": True\n",
    "            }\n",
    "        }\n",
    "    )\n",
    "    \n",
    "    parsed_content = json.loads(completion.choices[0].message.content)\n",
    "    formatted_response_content = ResponseFormat(**parsed_content)\n",
    "    \n",
    "    return formatted_response_content\n",
    "\n",
    "response_contents = [complete_chat_completion(prompt) for prompt in prompts]\n",
    "# print(response_contents)"
   ],
   "id": "3e77383dd91c0936",
   "outputs": [],
   "execution_count": 28
  },
  {
   "metadata": {
    "ExecuteTime": {
     "end_time": "2024-10-06T17:18:19.296676Z",
     "start_time": "2024-10-06T17:18:19.290963Z"
    }
   },
   "cell_type": "code",
   "source": [
    "# for i in response_contents: print(i, \"\\n\")\n",
    "\n",
    "for i in range(len(prompts)): \n",
    "    print(prompts[i], \"\\n\")\n",
    "    print(response_contents[i], \"\\n\")\n",
    "    print(\"*\" * 130)"
   ],
   "id": "b1a0c227d6a6cdbd",
   "outputs": [
    {
     "name": "stdout",
     "output_type": "stream",
     "text": [
      "Here is the text: \"hey white trash nsa remember this i will always be smarter than you even now godalwayswins\", and the words you need to pay attention to: ['smarter', 'than', 'nsa', 'hey', 'trash'] \n",
      "\n",
      "output_class='hate speech' output_explanation='The text contains derogatory language directed at a specific group, referred to as \"white trash.\" This term is considered offensive and classist, aiming to demean individuals based on their socioeconomic status. The phrase \"remember this i will always be smarter than you\" suggests a superiority complex, often associated with elitist attitudes. The mention of \"nsa\" (potentially referencing the National Security Agency) may add an element of disdain towards authority figures or agencies, further inflaming the negative sentiment. Overall, the combination of contempt and derogatory language fits the definition of hate speech.' \n",
      "\n",
      "**********************************************************************************************************************************\n",
      "Here is the text: \"arabs are so privileged and entitled it embarassing we are like the white people of the islamic world\", and the words you need to pay attention to: ['so', 'islamic', 'privileged', 'arabs', 'like'] \n",
      "\n",
      "output_class='offensive speech' output_explanation=\"The statement expresses a derogatory opinion about Arabs by labeling them as 'privileged' and 'entitled,' which implies a negative stereotype. The comparison to 'white people' may further indicate a sense of superiority or resentment. The use of the phrase 'like the white people of the islamic world' can be interpreted as an attempt to denigrate Arabs by categorizing them in a derogatory light. Such generalizations can perpetuate harmful stereotypes and contribute to division and prejudice, thus classifying the statement as offensive speech.\" \n",
      "\n",
      "**********************************************************************************************************************************\n",
      "Here is the text: \"he did not even get ratio d imagine if someone from the right did this to women on the left\", and the words you need to pay attention to: ['from', 'did', 'the', 'left'] \n",
      "\n",
      "output_class='normal speech' output_explanation=\"The text appears to be a comment or opinion regarding political actions, possibly referring to a specific social media situation (like being 'ratioed'). The words 'from', 'did', 'the', and 'left' do not indicate hate or offensive language; rather, they pertain to the context of political alignment. Therefore, this statement can be classified as normal speech.\" \n",
      "\n",
      "**********************************************************************************************************************************\n",
      "Here is the text: \"i hate arabs jews are arabs hebrew is fucking arabic we know\", and the words you need to pay attention to: ['hate', 'arabs', 'fucking', 'arabic'] \n",
      "\n",
      "output_class='hate speech' output_explanation=\"The text clearly expresses hatred towards Arabs by using the word 'hate' in connection to them. Additionally, the phrase 'jews are arabs' implies a derogatory equivalence that further dehumanizes both groups. The use of the expletive 'fucking' adds an aggressive tone to the statement, demonstrating hostility. Overall, the text promotes animosity against a particular ethnic and cultural group, which categorizes it as hate speech.\" \n",
      "\n",
      "**********************************************************************************************************************************\n",
      "Here is the text: \"joe biden own words are proof that the left resorts to violence when they do not like something said by others that the tolerant left for you from a legal standpoint nonthreatening words are never justification for assault battery\", and the words you need to pay attention to: ['assault', 'words', 'justification', 'battery'] \n",
      "\n",
      "output_class='normal speech' output_explanation=\"The text expresses an opinion on the actions of a political group (the left) in relation to violence and free speech. It criticizes what the author perceives as a tendency of the left to react violently to opposing views. The terms 'assault' and 'battery' are used in a legal context to discuss the justification for physical harm based on verbal disagreements. There is no explicit hateful or threatening language directed towards any specific group; rather, it seems to critique behavior and advocate for the protection of free speech. Therefore, it does not constitute hate speech or offensive speech.\" \n",
      "\n",
      "**********************************************************************************************************************************\n"
     ]
    }
   ],
   "execution_count": 29
  }
 ],
 "metadata": {
  "kernelspec": {
   "display_name": "Python 3",
   "language": "python",
   "name": "python3"
  },
  "language_info": {
   "codemirror_mode": {
    "name": "ipython",
    "version": 2
   },
   "file_extension": ".py",
   "mimetype": "text/x-python",
   "name": "python",
   "nbconvert_exporter": "python",
   "pygments_lexer": "ipython2",
   "version": "2.7.6"
  }
 },
 "nbformat": 4,
 "nbformat_minor": 5
}
