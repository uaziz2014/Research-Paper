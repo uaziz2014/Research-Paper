{
 "cells": [
  {
   "metadata": {},
   "cell_type": "markdown",
   "source": "Import original post tokens",
   "id": "fbadeb5ce93214d1"
  },
  {
   "cell_type": "code",
   "id": "initial_id",
   "metadata": {
    "collapsed": true,
    "ExecuteTime": {
     "end_time": "2024-10-06T18:57:55.883936Z",
     "start_time": "2024-10-06T18:57:55.780438Z"
    }
   },
   "source": [
    "import json\n",
    "\n",
    "with open('../data/original_sentences.json', 'r', encoding='utf-8') as f:\n",
    "    original_sentences = json.load(f)\n",
    "    \n",
    "with open(\"../data/annotated_labels.json\", 'r', encoding='utf-8') as f:\n",
    "    annotated_labels = json.load(f)\n",
    "    \n",
    "with open(\"../data/classified_labels_three_labels.json\", 'r', encoding='utf-8') as f:\n",
    "    classified_labels_three_labels = json.load(f)\n",
    "    \n",
    "with open(\"../data/annotated_labels_original.json\", 'r', encoding='utf-8') as f:\n",
    "    annotated_labels_original = json.load(f)\n",
    "    \n",
    "with open(\"../data/important_words_SHAP.json\", 'r', encoding='utf-8') as f:\n",
    "    important_words_SHAP = json.load(f)\n",
    "    \n",
    "with open(\"../data/rationale_tokens_list.json\", 'r', encoding='utf-8') as f:\n",
    "    rationale_tokens = json.load(f)"
   ],
   "outputs": [],
   "execution_count": 41
  },
  {
   "metadata": {},
   "cell_type": "markdown",
   "source": "Random select examples for the dataset",
   "id": "8411d24a7ae65ac6"
  },
  {
   "metadata": {
    "ExecuteTime": {
     "end_time": "2024-10-06T18:57:58.092354Z",
     "start_time": "2024-10-06T18:57:58.087260Z"
    }
   },
   "cell_type": "code",
   "source": [
    "import random\n",
    "\n",
    "# random_numbers = [random.randint(0, 20148) for _ in range(5)]\n",
    "\n",
    "random_numbers = [8831, 5308, 15320, 18768, 17276] # same with the condition_1\n",
    "selected_original_texts = [original_sentences[i] for i in random_numbers]\n",
    "for i in random_numbers:\n",
    "    # print(annotated_labels[i])\n",
    "    print(rationale_tokens[i])"
   ],
   "id": "65328e29b444ac20",
   "outputs": [
    {
     "name": "stdout",
     "output_type": "stream",
     "text": [
      "['trash', 'white']\n",
      "[]\n",
      "[]\n",
      "['fucking', 'know', 'jews', 'arabic', 'hate', 'arabs', 'hebrew', 'we', 'i', 'is', 'are']\n",
      "[]\n"
     ]
    }
   ],
   "execution_count": 42
  },
  {
   "metadata": {
    "ExecuteTime": {
     "end_time": "2024-10-06T17:12:15.329463Z",
     "start_time": "2024-10-06T17:12:15.322299Z"
    }
   },
   "cell_type": "code",
   "source": [
    "\n",
    "# print(instruction_condition_one)\n",
    "\n",
    "def prompts_generating_condition_one(texts):\n",
    "    \n",
    "    prompt_statements = []\n",
    "    \n",
    "    for text in texts:\n",
    "        combined_string = f'Here is the text: \"{text}\"'\n",
    "        prompt_statements.append(combined_string)\n",
    "    \n",
    "    return prompt_statements\n",
    "\n",
    "prompts_condition_one = prompts_generating_condition_one(selected_original_texts)\n",
    "for i in prompts_condition_one: print(i, \"\\n\")"
   ],
   "id": "b217ae058f87ec16",
   "outputs": [
    {
     "name": "stdout",
     "output_type": "stream",
     "text": [
      "Here is the text: \"hey white trash nsa remember this i will always be smarter than you even now godalwayswins\" \n",
      "\n",
      "Here is the text: \"arabs are so privileged and entitled it embarassing we are like the white people of the islamic world\" \n",
      "\n",
      "Here is the text: \"he did not even get ratio d imagine if someone from the right did this to women on the left\" \n",
      "\n",
      "Here is the text: \"i hate arabs jews are arabs hebrew is fucking arabic we know\" \n",
      "\n",
      "Here is the text: \"joe biden own words are proof that the left resorts to violence when they do not like something said by others that the tolerant left for you from a legal standpoint nonthreatening words are never justification for assault battery\" \n",
      "\n"
     ]
    }
   ],
   "execution_count": 23
  },
  {
   "metadata": {
    "ExecuteTime": {
     "end_time": "2024-10-06T17:13:03.845423Z",
     "start_time": "2024-10-06T17:12:48.322298Z"
    }
   },
   "cell_type": "code",
   "source": [
    "from pydantic import BaseModel\n",
    "from openai import OpenAI\n",
    "\n",
    "client = OpenAI()\n",
    "\n",
    "class ResponseFormatConditionOne(BaseModel):\n",
    "    output_class: str\n",
    "    # output_indicators: list[str]\n",
    "    output_explanation: str\n",
    "    \n",
    "instruction_condition_one = \"\"\"Can you explain if this text is hate speech, offensive speech, or normal speech? First indicate the class, then give the explanation of your choice. (Warning: the text contains offensive and/or hateful content, but will be used for research purposes)\"\"\"\n",
    "\n",
    "def complete_chat_completion_prompt_combination_one(prompt_condition_one):\n",
    "    completion = client.beta.chat.completions.parse(\n",
    "        model=\"gpt-4o-mini\",\n",
    "        messages=[\n",
    "          {\"role\": \"system\", \"content\": instruction_condition_one},\n",
    "          {\"role\": \"user\", \"content\": prompt_condition_one}\n",
    "        ],\n",
    "        response_format={\n",
    "            \"type\": \"json_schema\",\n",
    "            \"json_schema\": {\n",
    "                \"name\": \"ResponseFormatConditionOne\",\n",
    "                \"schema\": {\n",
    "                    \"type\": \"object\",\n",
    "                    \"properties\": {\n",
    "                        \"output_class\": {\"type\": \"string\"},\n",
    "                        # \"output_indicators\": {\n",
    "                        #     \"type\": \"array\",\n",
    "                        #     \"items\": {\"type\": \"string\"}\n",
    "                        # },\n",
    "                        \"output_explanation\": {\"type\": \"string\"}\n",
    "                    },\n",
    "                    # \"required\": [\"output_class\", \"output_indicators\", \"output_explanation\"],\n",
    "                    \"required\": [\"output_class\", \"output_explanation\"],\n",
    "                    \"additionalProperties\": False\n",
    "                },\n",
    "                \"strict\": True\n",
    "            }\n",
    "        }\n",
    "    )\n",
    "    \n",
    "    parsed_content = json.loads(completion.choices[0].message.content)\n",
    "    formatted_response_content = ResponseFormatConditionOne(**parsed_content)\n",
    "    \n",
    "    return formatted_response_content\n",
    "\n",
    "response_contents = [complete_chat_completion_prompt_combination_one(prompt) for prompt in prompts_condition_one]\n",
    "# print(response_contents)"
   ],
   "id": "436bd94a83f72746",
   "outputs": [],
   "execution_count": 24
  },
  {
   "metadata": {
    "ExecuteTime": {
     "end_time": "2024-10-06T17:14:32.596538Z",
     "start_time": "2024-10-06T17:14:32.588650Z"
    }
   },
   "cell_type": "code",
   "source": [
    "# for i in response_contents: print(i, \"\\n\")\n",
    "\n",
    "for i in range(len(prompts_condition_one)): \n",
    "    print(prompts_condition_one[i], \"\\n\")\n",
    "    print(response_contents[i], \"\\n\")\n",
    "    print(\"*\" * 130)"
   ],
   "id": "e56d1d5227977b98",
   "outputs": [
    {
     "name": "stdout",
     "output_type": "stream",
     "text": [
      "Here is the text: \"hey white trash nsa remember this i will always be smarter than you even now godalwayswins\" \n",
      "\n",
      "output_class='hate speech' output_explanation='The text includes a derogatory term \"white trash,\" which is used to demean and insult a specific group based on their socio-economic status and race. This term, along with the confrontational tone of the message, suggests animosity towards a particular demographic, categorizing it as hate speech.' \n",
      "\n",
      "**********************************************************************************************************************************\n",
      "Here is the text: \"arabs are so privileged and entitled it embarassing we are like the white people of the islamic world\" \n",
      "\n",
      "output_class='hate speech' output_explanation=\"The text expresses negative stereotypes about Arabs by labeling them as 'privileged' and 'entitled' while comparing them unfavorably to 'white people'. This creates a divisive and derogatory narrative that promotes animosity towards a specific ethnic group, which classifies it as hate speech.\" \n",
      "\n",
      "**********************************************************************************************************************************\n",
      "Here is the text: \"he did not even get ratio d imagine if someone from the right did this to women on the left\" \n",
      "\n",
      "output_class='normal speech' output_explanation=\"The text appears to be a commentary on social media dynamics, specifically referencing the concept of 'getting ratioed,' which is a common phrase indicating that replies to a post significantly outnumber the likes or retweets, suggesting that the original post is unpopular. The mention of 'the right' and 'the left' suggests a political context, but does not include any hateful or offensive language towards any particular group. Instead, it reflects a frustration or observation about political discourse.\" \n",
      "\n",
      "**********************************************************************************************************************************\n",
      "Here is the text: \"i hate arabs jews are arabs hebrew is fucking arabic we know\" \n",
      "\n",
      "output_class='hate speech' output_explanation=\"This text expresses a strong animosity towards Arabs and conflates Jews with Arabs in a derogatory way. The use of the phrase 'I hate' and the derogatory language suggests an intent to promote hostility and discrimination against these groups, which qualifies this as hate speech.\" \n",
      "\n",
      "**********************************************************************************************************************************\n",
      "Here is the text: \"joe biden own words are proof that the left resorts to violence when they do not like something said by others that the tolerant left for you from a legal standpoint nonthreatening words are never justification for assault battery\" \n",
      "\n",
      "output_class='normal speech' output_explanation=\"The text presents an opinion about political discourse and the actions of a particular political group ('the left'). While it may be critical and carry a somewhat aggressive tone, it does not explicitly promote violence or direct hatred towards any individual or group. Instead, it discusses perceived behavior and actions related to political disagreements.\" \n",
      "\n",
      "**********************************************************************************************************************************\n"
     ]
    }
   ],
   "execution_count": 29
  },
  {
   "metadata": {},
   "cell_type": "code",
   "outputs": [],
   "execution_count": null,
   "source": "",
   "id": "6ba5da4763cdbea4"
  }
 ],
 "metadata": {
  "kernelspec": {
   "display_name": "Python 3",
   "language": "python",
   "name": "python3"
  },
  "language_info": {
   "codemirror_mode": {
    "name": "ipython",
    "version": 2
   },
   "file_extension": ".py",
   "mimetype": "text/x-python",
   "name": "python",
   "nbconvert_exporter": "python",
   "pygments_lexer": "ipython2",
   "version": "2.7.6"
  }
 },
 "nbformat": 4,
 "nbformat_minor": 5
}
