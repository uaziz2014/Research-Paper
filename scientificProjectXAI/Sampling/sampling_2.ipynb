{
 "cells": [
  {
   "cell_type": "code",
   "id": "initial_id",
   "metadata": {
    "collapsed": true,
    "ExecuteTime": {
     "end_time": "2024-12-18T06:46:24.234985Z",
     "start_time": "2024-12-18T06:46:24.201279Z"
    }
   },
   "source": [
    "import json\n",
    "import ast\n",
    "\n",
    "with open(\"../data/classified_results.json\", \"r\") as f:\n",
    "    classified_results = json.load(f)"
   ],
   "outputs": [],
   "execution_count": 2
  },
  {
   "metadata": {
    "ExecuteTime": {
     "end_time": "2024-12-18T06:52:55.239636Z",
     "start_time": "2024-12-18T06:52:54.131616Z"
    }
   },
   "cell_type": "code",
   "source": [
    "threshold = 0.05\n",
    "\n",
    "def find_boundary_cases(data, threshold):\n",
    "    boundary_cases = []\n",
    "    boundary_cases_ids = []\n",
    "\n",
    "    for i in range(len(data)):\n",
    "        items = ast.literal_eval(data[i])\n",
    "\n",
    "        probabilities = {item['label']: item['score'] for item in items}\n",
    "        sorted_probs = sorted(probabilities.items(), key=lambda x: x[1], reverse=True)\n",
    "\n",
    "        if len(sorted_probs) > 1:\n",
    "            prob_diff = sorted_probs[0][1] - sorted_probs[1][1]\n",
    "\n",
    "            if prob_diff < threshold:\n",
    "                boundary_case = {\n",
    "                    \"id\": i,\n",
    "                    \"top_class\": sorted_probs[0][0],\n",
    "                    \"top_prob\": sorted_probs[0][1],\n",
    "                    \"second_class\": sorted_probs[1][0],\n",
    "                    \"second_prob\": sorted_probs[1][1],\n",
    "                    \"prob_diff\": prob_diff,\n",
    "                    \"all_probabilities\": probabilities,\n",
    "                }\n",
    "                boundary_cases.append(boundary_case)\n",
    "                boundary_cases_ids.append(i)\n",
    "\n",
    "    return boundary_cases, boundary_cases_ids\n",
    "\n",
    "boundary_cases, boundary_cases_ids = find_boundary_cases(classified_results, threshold)\n",
    "\n",
    "print(\"Boundary Cases:\")\n",
    "for case in boundary_cases[:10]:\n",
    "    print(case)\n",
    "print(len(boundary_cases_ids))"
   ],
   "id": "761e407a2756c782",
   "outputs": [
    {
     "name": "stdout",
     "output_type": "stream",
     "text": [
      "Boundary Cases:\n",
      "{'id': 33, 'top_class': 'offensive', 'top_prob': 0.46285995841026306, 'second_class': 'hate speech', 'second_prob': 0.44850075244903564, 'prob_diff': 0.014359205961227417, 'all_probabilities': {'hate speech': 0.44850075244903564, 'normal': 0.08863929659128189, 'offensive': 0.46285995841026306}}\n",
      "{'id': 47, 'top_class': 'offensive', 'top_prob': 0.37619876861572266, 'second_class': 'normal', 'second_prob': 0.327572762966156, 'prob_diff': 0.04862600564956665, 'all_probabilities': {'hate speech': 0.2962284982204437, 'normal': 0.327572762966156, 'offensive': 0.37619876861572266}}\n",
      "{'id': 51, 'top_class': 'offensive', 'top_prob': 0.490161269903183, 'second_class': 'normal', 'second_prob': 0.47436246275901794, 'prob_diff': 0.01579880714416504, 'all_probabilities': {'hate speech': 0.03547625616192818, 'normal': 0.47436246275901794, 'offensive': 0.490161269903183}}\n",
      "{'id': 84, 'top_class': 'offensive', 'top_prob': 0.38564664125442505, 'second_class': 'normal', 'second_prob': 0.3721248209476471, 'prob_diff': 0.013521820306777954, 'all_probabilities': {'hate speech': 0.24222855269908905, 'normal': 0.3721248209476471, 'offensive': 0.38564664125442505}}\n",
      "{'id': 97, 'top_class': 'normal', 'top_prob': 0.4983610212802887, 'second_class': 'offensive', 'second_prob': 0.4646729826927185, 'prob_diff': 0.03368803858757019, 'all_probabilities': {'hate speech': 0.036966074258089066, 'normal': 0.4983610212802887, 'offensive': 0.4646729826927185}}\n",
      "{'id': 103, 'top_class': 'normal', 'top_prob': 0.3994389474391937, 'second_class': 'offensive', 'second_prob': 0.39024868607521057, 'prob_diff': 0.009190261363983154, 'all_probabilities': {'hate speech': 0.21031229197978973, 'normal': 0.3994389474391937, 'offensive': 0.39024868607521057}}\n",
      "{'id': 114, 'top_class': 'offensive', 'top_prob': 0.4888968765735626, 'second_class': 'normal', 'second_prob': 0.4624156653881073, 'prob_diff': 0.026481211185455322, 'all_probabilities': {'hate speech': 0.0486874058842659, 'normal': 0.4624156653881073, 'offensive': 0.4888968765735626}}\n",
      "{'id': 124, 'top_class': 'offensive', 'top_prob': 0.45509299635887146, 'second_class': 'normal', 'second_prob': 0.4326461851596832, 'prob_diff': 0.022446811199188232, 'all_probabilities': {'hate speech': 0.11226081848144531, 'normal': 0.4326461851596832, 'offensive': 0.45509299635887146}}\n",
      "{'id': 135, 'top_class': 'normal', 'top_prob': 0.3752005994319916, 'second_class': 'hate speech', 'second_prob': 0.355267733335495, 'prob_diff': 0.019932866096496582, 'all_probabilities': {'hate speech': 0.355267733335495, 'normal': 0.3752005994319916, 'offensive': 0.2695316970348358}}\n",
      "{'id': 151, 'top_class': 'offensive', 'top_prob': 0.40013593435287476, 'second_class': 'normal', 'second_prob': 0.35835063457489014, 'prob_diff': 0.04178529977798462, 'all_probabilities': {'hate speech': 0.2415134459733963, 'normal': 0.35835063457489014, 'offensive': 0.40013593435287476}}\n",
      "1462\n"
     ]
    }
   ],
   "execution_count": 10
  },
  {
   "metadata": {},
   "cell_type": "code",
   "outputs": [],
   "execution_count": null,
   "source": "",
   "id": "812910dcf6a69693"
  }
 ],
 "metadata": {
  "kernelspec": {
   "display_name": "Python 3",
   "language": "python",
   "name": "python3"
  },
  "language_info": {
   "codemirror_mode": {
    "name": "ipython",
    "version": 2
   },
   "file_extension": ".py",
   "mimetype": "text/x-python",
   "name": "python",
   "nbconvert_exporter": "python",
   "pygments_lexer": "ipython2",
   "version": "2.7.6"
  }
 },
 "nbformat": 4,
 "nbformat_minor": 5
}
