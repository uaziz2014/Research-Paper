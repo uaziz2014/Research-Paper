{
 "cells": [
  {
   "metadata": {
    "ExecuteTime": {
     "end_time": "2024-12-18T07:56:40.569219Z",
     "start_time": "2024-12-18T07:56:40.541131Z"
    }
   },
   "cell_type": "code",
   "source": [
    "import json\n",
    "import ast\n",
    "\n",
    "with open(\"../data/classified_results.json\", \"r\") as f:\n",
    "    classified_results = json.load(f)"
   ],
   "id": "6444489a45edacc6",
   "outputs": [],
   "execution_count": 4
  },
  {
   "cell_type": "code",
   "id": "initial_id",
   "metadata": {
    "collapsed": true,
    "ExecuteTime": {
     "end_time": "2024-12-18T07:56:41.749090Z",
     "start_time": "2024-12-18T07:56:40.629227Z"
    }
   },
   "source": [
    "high_confidence_threshold = 0.9\n",
    "low_confidence_threshold = 0.6\n",
    "\n",
    "def find_confidence_cases(data, high_threshold, low_threshold):\n",
    "    high_confidence_cases = []\n",
    "    low_confidence_cases = []\n",
    "\n",
    "    for i in range(len(data)):\n",
    "        items = ast.literal_eval(data[i])\n",
    "\n",
    "        probabilities = {item['label']: item['score'] for item in items}\n",
    "        sorted_probs = sorted(probabilities.items(), key=lambda x: x[1], reverse=True)\n",
    "\n",
    "        if sorted_probs[0][1] > high_threshold:\n",
    "            high_confidence_cases.append({\n",
    "                \"id\": i,\n",
    "                \"top_class\": sorted_probs[0][0],\n",
    "                \"top_prob\": sorted_probs[0][1],\n",
    "                \"all_probabilities\": probabilities,\n",
    "            })\n",
    "\n",
    "        elif sorted_probs[0][1] < low_threshold:\n",
    "            low_confidence_cases.append({\n",
    "                \"id\": i,\n",
    "                \"top_class\": sorted_probs[0][0],\n",
    "                \"top_prob\": sorted_probs[0][1],\n",
    "                \"all_probabilities\": probabilities,\n",
    "            })\n",
    "\n",
    "    return high_confidence_cases, low_confidence_cases\n",
    "\n",
    "high_confidence_cases, low_confidence_cases = find_confidence_cases(\n",
    "    classified_results, high_confidence_threshold, low_confidence_threshold\n",
    ")\n",
    "\n",
    "# with open(\"high_confidence_cases.json\", \"w\") as f:\n",
    "#     json.dump(high_confidence_cases, f, indent=4)\n",
    "# \n",
    "# with open(\"low_confidence_cases.json\", \"w\") as f:\n",
    "#     json.dump(low_confidence_cases, f, indent=4)\n",
    "# \n",
    "# print(f\"High confidence cases saved to 'high_confidence_cases.json'\")\n",
    "# print(f\"Low confidence cases saved to 'low_confidence_cases.json'\")\n",
    "\n",
    "print(\"\\nHigh Confidence Cases:\")\n",
    "for case in high_confidence_cases[:10]:\n",
    "    print(case)\n",
    "\n",
    "print(\"\\nLow Confidence Cases:\")\n",
    "for case in low_confidence_cases[:10]:\n",
    "    print(case)"
   ],
   "outputs": [
    {
     "name": "stdout",
     "output_type": "stream",
     "text": [
      "\n",
      "High Confidence Cases:\n",
      "{'id': 5, 'top_class': 'hate speech', 'top_prob': 0.920625627040863, 'all_probabilities': {'hate speech': 0.920625627040863, 'normal': 0.016379807144403458, 'offensive': 0.06299459934234619}}\n",
      "{'id': 19, 'top_class': 'hate speech', 'top_prob': 0.9128144979476929, 'all_probabilities': {'hate speech': 0.9128144979476929, 'normal': 0.024478795006871223, 'offensive': 0.06270673871040344}}\n",
      "{'id': 23, 'top_class': 'hate speech', 'top_prob': 0.9381422400474548, 'all_probabilities': {'hate speech': 0.9381422400474548, 'normal': 0.01094747893512249, 'offensive': 0.050910305231809616}}\n",
      "{'id': 28, 'top_class': 'hate speech', 'top_prob': 0.932407557964325, 'all_probabilities': {'hate speech': 0.932407557964325, 'normal': 0.012832426466047764, 'offensive': 0.05475996062159538}}\n",
      "{'id': 62, 'top_class': 'hate speech', 'top_prob': 0.9319139719009399, 'all_probabilities': {'hate speech': 0.9319139719009399, 'normal': 0.012618220411241055, 'offensive': 0.055467721074819565}}\n",
      "{'id': 63, 'top_class': 'hate speech', 'top_prob': 0.9190040230751038, 'all_probabilities': {'hate speech': 0.9190040230751038, 'normal': 0.011071057058870792, 'offensive': 0.0699249655008316}}\n",
      "{'id': 66, 'top_class': 'hate speech', 'top_prob': 0.9278603196144104, 'all_probabilities': {'hate speech': 0.9278603196144104, 'normal': 0.014116641134023666, 'offensive': 0.05802302062511444}}\n",
      "{'id': 69, 'top_class': 'hate speech', 'top_prob': 0.9038717746734619, 'all_probabilities': {'hate speech': 0.9038717746734619, 'normal': 0.015950853005051613, 'offensive': 0.08017738163471222}}\n",
      "{'id': 75, 'top_class': 'hate speech', 'top_prob': 0.9077458381652832, 'all_probabilities': {'hate speech': 0.9077458381652832, 'normal': 0.023534486070275307, 'offensive': 0.06871966272592545}}\n",
      "{'id': 136, 'top_class': 'hate speech', 'top_prob': 0.9365033507347107, 'all_probabilities': {'hate speech': 0.9365033507347107, 'normal': 0.011732349172234535, 'offensive': 0.051764342933893204}}\n",
      "\n",
      "Low Confidence Cases:\n",
      "{'id': 12, 'top_class': 'normal', 'top_prob': 0.5516576170921326, 'all_probabilities': {'hate speech': 0.05326468124985695, 'normal': 0.5516576170921326, 'offensive': 0.3950776755809784}}\n",
      "{'id': 13, 'top_class': 'normal', 'top_prob': 0.5645251870155334, 'all_probabilities': {'hate speech': 0.046292100101709366, 'normal': 0.5645251870155334, 'offensive': 0.3891827166080475}}\n",
      "{'id': 14, 'top_class': 'offensive', 'top_prob': 0.5205456614494324, 'all_probabilities': {'hate speech': 0.050612032413482666, 'normal': 0.4288422763347626, 'offensive': 0.5205456614494324}}\n",
      "{'id': 21, 'top_class': 'normal', 'top_prob': 0.5049748420715332, 'all_probabilities': {'hate speech': 0.14102451503276825, 'normal': 0.5049748420715332, 'offensive': 0.35400062799453735}}\n",
      "{'id': 30, 'top_class': 'hate speech', 'top_prob': 0.5842214822769165, 'all_probabilities': {'hate speech': 0.5842214822769165, 'normal': 0.18292830884456635, 'offensive': 0.23285025358200073}}\n",
      "{'id': 32, 'top_class': 'offensive', 'top_prob': 0.4184422492980957, 'all_probabilities': {'hate speech': 0.25057438015937805, 'normal': 0.33098340034484863, 'offensive': 0.4184422492980957}}\n",
      "{'id': 33, 'top_class': 'offensive', 'top_prob': 0.46285995841026306, 'all_probabilities': {'hate speech': 0.44850075244903564, 'normal': 0.08863929659128189, 'offensive': 0.46285995841026306}}\n",
      "{'id': 34, 'top_class': 'offensive', 'top_prob': 0.5896607637405396, 'all_probabilities': {'hate speech': 0.03759029507637024, 'normal': 0.372749000787735, 'offensive': 0.5896607637405396}}\n",
      "{'id': 36, 'top_class': 'normal', 'top_prob': 0.570170521736145, 'all_probabilities': {'hate speech': 0.032361097633838654, 'normal': 0.570170521736145, 'offensive': 0.3974683880805969}}\n",
      "{'id': 41, 'top_class': 'normal', 'top_prob': 0.5564565062522888, 'all_probabilities': {'hate speech': 0.10319980978965759, 'normal': 0.5564565062522888, 'offensive': 0.3403436839580536}}\n"
     ]
    }
   ],
   "execution_count": 5
  }
 ],
 "metadata": {
  "kernelspec": {
   "display_name": "Python 3",
   "language": "python",
   "name": "python3"
  },
  "language_info": {
   "codemirror_mode": {
    "name": "ipython",
    "version": 2
   },
   "file_extension": ".py",
   "mimetype": "text/x-python",
   "name": "python",
   "nbconvert_exporter": "python",
   "pygments_lexer": "ipython2",
   "version": "2.7.6"
  }
 },
 "nbformat": 4,
 "nbformat_minor": 5
}
