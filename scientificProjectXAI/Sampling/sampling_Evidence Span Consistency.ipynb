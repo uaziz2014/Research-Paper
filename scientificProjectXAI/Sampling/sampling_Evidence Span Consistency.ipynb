{
 "cells": [
  {
   "cell_type": "code",
   "id": "initial_id",
   "metadata": {
    "collapsed": true,
    "ExecuteTime": {
     "end_time": "2024-12-17T20:02:07.081204Z",
     "start_time": "2024-12-17T20:02:07.007056Z"
    }
   },
   "source": [
    "import json\n",
    "    \n",
    "with open('../data/important_words_SHAP.json', 'r') as f:\n",
    "    important_words_data = json.load(f)\n",
    "\n",
    "with open('../data/rationale_tokens_list.json', 'r') as f:\n",
    "    rationale_tokens_data = json.load(f)\n",
    "    \n",
    "with open(\"../data/annotated_labels.json\", \"r\") as f:\n",
    "    annotated_labels = json.load(f)"
   ],
   "outputs": [],
   "execution_count": 2
  },
  {
   "metadata": {
    "ExecuteTime": {
     "end_time": "2024-12-17T20:15:48.312823Z",
     "start_time": "2024-12-17T20:15:48.278567Z"
    }
   },
   "cell_type": "code",
   "source": [
    "low_count = 0\n",
    "medium_count = 0\n",
    "high_count = 0\n",
    "\n",
    "total_count = 0 \n",
    "\n",
    "for i in range(len(annotated_labels)):\n",
    "    if annotated_labels[i] == 1:\n",
    "        rationale_tokens = set(rationale_tokens_data[i])\n",
    "        important_tokens = set(important_words_data[i])\n",
    "\n",
    "        intersection = rationale_tokens & important_tokens\n",
    "        overlap_rate = len(intersection) / len(rationale_tokens) if rationale_tokens else 0\n",
    "\n",
    "        if overlap_rate < 0.3:\n",
    "            low_count += 1\n",
    "        elif 0.3 <= overlap_rate < 0.7:\n",
    "            medium_count += 1\n",
    "        else:\n",
    "            high_count += 1\n",
    "\n",
    "        total_count += 1\n",
    "\n",
    "low_ratio = low_count / total_count if total_count else 0\n",
    "medium_ratio = medium_count / total_count if total_count else 0\n",
    "high_ratio = high_count / total_count if total_count else 0\n",
    "\n",
    "print(f\"a) Low consistency (overlap rate < 30%): {low_count} ({low_ratio:.2%})\")\n",
    "print(f\"b) Medium consistency (30% ≤ overlap rate ≤ 70%): {medium_count} ({medium_ratio:.2%})\")\n",
    "print(f\"c) High consistency (overlap rate > 70%): {high_count} ({high_ratio:.2%})\")\n",
    "print(f\"Total: {total_count}\")"
   ],
   "id": "4cebaa66d4e6a6d6",
   "outputs": [
    {
     "name": "stdout",
     "output_type": "stream",
     "text": [
      "a) Low consistency (overlap rate < 30%): 5296 (42.94%)\n",
      "b) Medium consistency (30% ≤ overlap rate ≤ 70%): 3964 (32.14%)\n",
      "c) High consistency (overlap rate > 70%): 3074 (24.92%)\n",
      "Total: 12334\n"
     ]
    }
   ],
   "execution_count": 22
  },
  {
   "metadata": {
    "ExecuteTime": {
     "end_time": "2024-12-17T20:11:18.861831Z",
     "start_time": "2024-12-17T20:11:18.859262Z"
    }
   },
   "cell_type": "code",
   "source": "",
   "id": "ea77a9a63cb051ba",
   "outputs": [],
   "execution_count": 15
  }
 ],
 "metadata": {
  "kernelspec": {
   "display_name": "Python 3",
   "language": "python",
   "name": "python3"
  },
  "language_info": {
   "codemirror_mode": {
    "name": "ipython",
    "version": 2
   },
   "file_extension": ".py",
   "mimetype": "text/x-python",
   "name": "python",
   "nbconvert_exporter": "python",
   "pygments_lexer": "ipython2",
   "version": "2.7.6"
  }
 },
 "nbformat": 4,
 "nbformat_minor": 5
}
