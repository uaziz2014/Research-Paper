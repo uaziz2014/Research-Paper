{
 "cells": [
  {
   "metadata": {
    "ExecuteTime": {
     "end_time": "2024-12-17T23:24:37.440827Z",
     "start_time": "2024-12-17T23:24:37.303684Z"
    }
   },
   "cell_type": "code",
   "source": [
    "import json\n",
    "import random\n",
    "\n",
    "with open('../data/important_words_SHAP.json', 'r') as f:\n",
    "    important_words_data = json.load(f)\n",
    "\n",
    "with open('../data/rationale_tokens_list.json', 'r') as f:\n",
    "    rationale_tokens_data = json.load(f)\n",
    "\n",
    "with open(\"../data/annotated_labels.json\", \"r\") as f:\n",
    "    annotated_labels = json.load(f)\n",
    "\n",
    "with open(\"../data/classified_labels.json\", \"r\") as f:\n",
    "    classified_labels = json.load(f)"
   ],
   "id": "5cb8dda03edf5797",
   "outputs": [],
   "execution_count": 2
  },
  {
   "cell_type": "code",
   "id": "initial_id",
   "metadata": {
    "collapsed": true,
    "ExecuteTime": {
     "end_time": "2024-12-18T06:11:13.675458Z",
     "start_time": "2024-12-18T06:11:13.595545Z"
    }
   },
   "source": [
    "high_overlap_correct_samples = []\n",
    "high_overlap_misclassified_samples = []\n",
    "low_overlap_correct_samples = []\n",
    "low_overlap_misclassified_samples = []\n",
    "\n",
    "total_count = 0\n",
    "\n",
    "for i in range(len(annotated_labels)):\n",
    "    if annotated_labels[i] == 1:\n",
    "        rationale_tokens = set(rationale_tokens_data[i])\n",
    "        important_tokens = set(important_words_data[i])\n",
    "        \n",
    "        intersection = rationale_tokens & important_tokens\n",
    "        overlap_rate = len(intersection) / len(rationale_tokens) if rationale_tokens else 0\n",
    "\n",
    "        correct_classification = annotated_labels[i] == classified_labels[i]\n",
    "        \n",
    "        sample = {\n",
    "            \"index\": i,\n",
    "            \"annotated_label\": annotated_labels[i],\n",
    "            \"classified_label\": classified_labels[i],\n",
    "            \"overlap_rate\": overlap_rate,\n",
    "            \"rationale_tokens\": list(rationale_tokens),\n",
    "            \"shap_tokens\": list(important_tokens),\n",
    "            \"intersection\": list(intersection)\n",
    "        }\n",
    "\n",
    "        if overlap_rate > 0.7:\n",
    "            if correct_classification:\n",
    "                high_overlap_correct_samples.append(sample)\n",
    "            else:\n",
    "                high_overlap_misclassified_samples.append(sample)\n",
    "\n",
    "        elif overlap_rate < 0.3:\n",
    "            if correct_classification:\n",
    "                low_overlap_correct_samples.append(sample)\n",
    "            else:\n",
    "                low_overlap_misclassified_samples.append(sample)\n",
    "\n",
    "        total_count += 1\n",
    "\n",
    "def sample_cases(samples_list, n=5):\n",
    "    return random.sample(samples_list, min(n, len(samples_list)))\n",
    "\n",
    "high_correct_sampled = sample_cases(high_overlap_correct_samples)\n",
    "high_misclassified_sampled = sample_cases(high_overlap_misclassified_samples)\n",
    "low_correct_sampled = sample_cases(low_overlap_correct_samples)\n",
    "low_misclassified_sampled = sample_cases(low_overlap_misclassified_samples)\n",
    "\n",
    "output_data = {\n",
    "    \"High Overlap Correct\": high_correct_sampled,\n",
    "    \"High Overlap Misclassified\": high_misclassified_sampled,\n",
    "    \"Low Overlap Correct\": low_correct_sampled,\n",
    "    \"Low Overlap Misclassified\": low_misclassified_sampled\n",
    "}\n",
    "\n",
    "# Save to JSON file\n",
    "# with open(\"sampled_cases.json\", \"w\") as f:\n",
    "#     json.dump(output_data, f, indent=4)\n",
    "\n",
    "# print(\"\\nSamples saved to 'sampled_cases.json'\")\n",
    "\n",
    "# Print results category by category\n",
    "def print_samples(samples, name):\n",
    "    print(f\"\\nCategory: {name}\")\n",
    "    for sample in samples:\n",
    "        print(sample)\n",
    "\n",
    "# Print each category\n",
    "print_samples(high_correct_sampled, \"High Overlap Correct\")\n",
    "print_samples(high_misclassified_sampled, \"High Overlap Misclassified\")\n",
    "print_samples(low_correct_sampled, \"Low Overlap Correct\")\n",
    "print_samples(low_misclassified_sampled, \"Low Overlap Misclassified\")\n"
   ],
   "outputs": [
    {
     "name": "stdout",
     "output_type": "stream",
     "text": [
      "\n",
      "Category: High Overlap Correct\n",
      "{'index': 1270, 'annotated_label': 1, 'classified_label': 1, 'overlap_rate': 0.75, 'rationale_tokens': ['graves', 'mass', 'moslem', 'unmarked'], 'shap_tokens': ['would', 'graves', 'moslem', 'unmarked'], 'intersection': ['graves', 'moslem', 'unmarked']}\n",
      "{'index': 9277, 'annotated_label': 1, 'classified_label': 1, 'overlap_rate': 1.0, 'rationale_tokens': ['nigger'], 'shap_tokens': ['the', 'punch', 'nigger', 'deserves'], 'intersection': ['nigger']}\n",
      "{'index': 273, 'annotated_label': 1, 'classified_label': 1, 'overlap_rate': 1.0, 'rationale_tokens': ['muzrat'], 'shap_tokens': ['muzrat', 'brexit', 'will'], 'intersection': ['muzrat']}\n",
      "{'index': 4930, 'annotated_label': 1, 'classified_label': 1, 'overlap_rate': 1.0, 'rationale_tokens': ['faggots', 'lover', 'nigger'], 'shap_tokens': ['us', 'lover', 'nigger', 'faggots'], 'intersection': ['faggots', 'nigger', 'lover']}\n",
      "{'index': 4261, 'annotated_label': 1, 'classified_label': 1, 'overlap_rate': 1.0, 'rationale_tokens': ['nigger', 'bastard', 'lovers'], 'shap_tokens': ['shit', 'nigger', 'bastard', 'lovers'], 'intersection': ['nigger', 'bastard', 'lovers']}\n",
      "\n",
      "Category: High Overlap Misclassified\n",
      "{'index': 10668, 'annotated_label': 1, 'classified_label': 0, 'overlap_rate': 0.75, 'rationale_tokens': ['gays', 'and', 'queers', 'white'], 'shap_tokens': ['and', 'same', 'white', 'all', 'queers'], 'intersection': ['and', 'queers', 'white']}\n",
      "{'index': 8627, 'annotated_label': 1, 'classified_label': 0, 'overlap_rate': 1.0, 'rationale_tokens': ['slut'], 'shap_tokens': ['<user>', 'back', 'slut'], 'intersection': ['slut']}\n",
      "{'index': 3111, 'annotated_label': 1, 'classified_label': 0, 'overlap_rate': 1.0, 'rationale_tokens': ['hillbilly'], 'shap_tokens': ['where', 'hillbilly', '<user>'], 'intersection': ['hillbilly']}\n",
      "{'index': 17653, 'annotated_label': 1, 'classified_label': 0, 'overlap_rate': 0.8, 'rationale_tokens': ['feelz', 'tha', 'all', 'muh', 'nigga'], 'shap_tokens': ['all', 'nigga', 'muh', 'feelz'], 'intersection': ['nigga', 'all', 'feelz', 'muh']}\n",
      "{'index': 17610, 'annotated_label': 1, 'classified_label': 0, 'overlap_rate': 0.8, 'rationale_tokens': ['u', 'r', 'doing', 'women', 'wtf'], 'shap_tokens': ['women', 'u', 'r', 'wtf'], 'intersection': ['u', 'women', 'r', 'wtf']}\n",
      "\n",
      "Category: Low Overlap Correct\n",
      "{'index': 11472, 'annotated_label': 1, 'classified_label': 1, 'overlap_rate': 0.0625, 'rationale_tokens': ['did', 'a', 'of', 'houston', 'out', 'orleans', 'katrina', 'lot', 'shit', 'like', 'clean', 'in', 'new', 'with', 'the', 'niggers'], 'shap_tokens': ['fucking', 'and', 'niggers', 'dump'], 'intersection': ['niggers']}\n",
      "{'index': 16615, 'annotated_label': 1, 'classified_label': 1, 'overlap_rate': 0.15384615384615385, 'rationale_tokens': ['did', 'for', 'fundamentally', 'voting', 'known', 'made', 'what', 'before', 'brain', 'treasonous', 'half', 'dead', 'muslim', 'voted', 'statements', 'enemy', 'these', 'a', 'shocking', 'of', 'population', 'think', 'our', 'america', 'were', 'they'], 'shap_tokens': ['brain', 'muslim', 'dead', 'treasonous'], 'intersection': ['brain', 'muslim', 'dead', 'treasonous']}\n",
      "{'index': 19168, 'annotated_label': 1, 'classified_label': 1, 'overlap_rate': 0.23076923076923078, 'rationale_tokens': ['illegal', 'of', 'deal', 'agreed', 'administration', 'obama', 'take', 'thousands', 'australia', 'dumb', 'from', 'to', 'immigrants'], 'shap_tokens': ['illegal', 'do', 'dumb', 'you', 'immigrants'], 'intersection': ['illegal', 'immigrants', 'dumb']}\n",
      "{'index': 10117, 'annotated_label': 1, 'classified_label': 1, 'overlap_rate': 0.1, 'rationale_tokens': ['and', 'of', 'raped', 'wiped', 'face', 'being', 'off', 'sweden', 'the', 'earth'], 'shap_tokens': ['maga', 'case', 'wiped', 'any', 'you'], 'intersection': ['wiped']}\n",
      "{'index': 17542, 'annotated_label': 1, 'classified_label': 1, 'overlap_rate': 0.0, 'rationale_tokens': ['not', 'already', 'get', 'than', 'can', 'lower', 'is', 'much', 'killed', 'her', 'raped', 'she'], 'shap_tokens': ['widows', 'you', 'harris', 'orphans', 'imported'], 'intersection': []}\n",
      "\n",
      "Category: Low Overlap Misclassified\n",
      "{'index': 15110, 'annotated_label': 1, 'classified_label': 0, 'overlap_rate': 0.0, 'rationale_tokens': ['for', 'stepping', 'aid', 'asians', 'build', 'no', 'breach', 'them', 'from', 'contracting', 'to', 'into', 'stuff', 'the', 'east', 'blockading'], 'shap_tokens': ['environmental', 'and', 'stressers', 'peoples', 'turmoil'], 'intersection': []}\n",
      "{'index': 11867, 'annotated_label': 1, 'classified_label': 0, 'overlap_rate': 0, 'rationale_tokens': [], 'shap_tokens': ['tara', 'surrounded', 'feminine', 'become'], 'intersection': []}\n",
      "{'index': 18871, 'annotated_label': 1, 'classified_label': 0, 'overlap_rate': 0.14285714285714285, 'rationale_tokens': ['actual', 'your', 'likely', 'or', 'what', 'to', 'if', 'kept', 'detained', 'such', 'locked', 'papers', 'fuck', 'you', 'the', 'do', 'refugee', 'up', 'are', 'be', 'most', 'a', 'australia', 'interviewed', 'will', 'welp', 'in', 'deported'], 'shap_tokens': ['detained', 'such', 'interviewed', '<user>', 'papers'], 'intersection': ['papers', 'detained', 'such', 'interviewed']}\n",
      "{'index': 14943, 'annotated_label': 1, 'classified_label': 0, 'overlap_rate': 0.0, 'rationale_tokens': ['and', 'hypocrites', 'sexism', 'fucking', 'are', 'muslims', 'bigotry', 'when', 'racism', 'you', 'children', 'women', 'rape', 'cancer'], 'shap_tokens': ['twitter', 'say', '<user>'], 'intersection': []}\n",
      "{'index': 6117, 'annotated_label': 1, 'classified_label': 0, 'overlap_rate': 0.0, 'rationale_tokens': ['jihadi', 'john'], 'shap_tokens': ['his', 'verbal', 'iyer', '<user>', 'heckling'], 'intersection': []}\n"
     ]
    }
   ],
   "execution_count": 5
  },
  {
   "metadata": {},
   "cell_type": "code",
   "outputs": [],
   "execution_count": null,
   "source": "",
   "id": "8062fd49e90c35b0"
  }
 ],
 "metadata": {
  "kernelspec": {
   "display_name": "Python 3",
   "language": "python",
   "name": "python3"
  },
  "language_info": {
   "codemirror_mode": {
    "name": "ipython",
    "version": 2
   },
   "file_extension": ".py",
   "mimetype": "text/x-python",
   "name": "python",
   "nbconvert_exporter": "python",
   "pygments_lexer": "ipython2",
   "version": "2.7.6"
  }
 },
 "nbformat": 4,
 "nbformat_minor": 5
}
